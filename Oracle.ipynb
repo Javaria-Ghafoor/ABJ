{
 "cells": [
  {
   "cell_type": "code",
   "execution_count": 32,
   "metadata": {},
   "outputs": [],
   "source": [
    "import qiskit as q\n",
    "from matplotlib import style\n",
    "import math\n",
    "%matplotlib inline"
   ]
  },
  {
   "cell_type": "code",
   "execution_count": 39,
   "metadata": {},
   "outputs": [
    {
     "data": {
      "text/html": [
       "<pre style=\"word-wrap: normal;white-space: pre;background: #fff0;line-height: 1.1;font-family: &quot;Courier New&quot;,Courier,monospace\">               \n",
       "q_0: ──■───────\n",
       "       │       \n",
       "q_1: ──┼────■──\n",
       "     ┌─┴─┐┌─┴─┐\n",
       "q_2: ┤ X ├┤ X ├\n",
       "     └───┘└───┘</pre>"
      ],
      "text/plain": [
       "               \n",
       "q_0: ──■───────\n",
       "       │       \n",
       "q_1: ──┼────■──\n",
       "     ┌─┴─┐┌─┴─┐\n",
       "q_2: ┤ X ├┤ X ├\n",
       "     └───┘└───┘"
      ]
     },
     "execution_count": 39,
     "metadata": {},
     "output_type": "execute_result"
    }
   ],
   "source": [
    "# What's inside the balanced fucntion oracle\n",
    "bfunc = q.QuantumCircuit(3)\n",
    "bfunc.cx(0, 2)\n",
    "bfunc.cx(1, 2)\n",
    "bfunc.draw()"
   ]
  },
  {
   "cell_type": "code",
   "execution_count": 42,
   "metadata": {},
   "outputs": [
    {
     "data": {
      "text/html": [
       "<pre style=\"word-wrap: normal;white-space: pre;background: #fff0;line-height: 1.1;font-family: &quot;Courier New&quot;,Courier,monospace\">     ┌──────────┐\n",
       "q_0: ┤0         ├\n",
       "     │          │\n",
       "q_1: ┤1 oracle1 ├\n",
       "     │          │\n",
       "q_2: ┤2         ├\n",
       "     └──────────┘</pre>"
      ],
      "text/plain": [
       "     ┌──────────┐\n",
       "q_0: ┤0         ├\n",
       "     │          │\n",
       "q_1: ┤1 oracle1 ├\n",
       "     │          │\n",
       "q_2: ┤2         ├\n",
       "     └──────────┘"
      ]
     },
     "execution_count": 42,
     "metadata": {},
     "output_type": "execute_result"
    }
   ],
   "source": [
    "# Build an oracle for a balanced function\n",
    "oracle1_q = q.QuantumRegister(3)\n",
    "oracle1_circ = q.QuantumCircuit(oracle1_q, name='oracle1')\n",
    "oracle1_circ.cx(oracle1_q[0], oracle1_q[2])\n",
    "oracle1_circ.cx(oracle1_q[1], oracle1_q[2])\n",
    "\n",
    "# Convert to a gate and stick it into an arbitrary place in the bigger circuit\n",
    "oracle1_inst = oracle1_circ.to_instruction()\n",
    "\n",
    "\"\"\"\n",
    "c = q.QuantumCircuit(3, 2)\n",
    "c.x(2)  # adding this not gate\n",
    "c.barrier()\n",
    "c.h(0)\n",
    "c.h(1)\n",
    "c.h(2)\n",
    "c.barrier()\n",
    "c.append(oracle1_inst, [0, 1, 2])\n",
    "c.barrier()\n",
    "c.h(0)\n",
    "c.h(1)\n",
    "# no need for ending H on q[2]\n",
    "c.draw()\n",
    "\"\"\"\n",
    "\n",
    "c1 = q.QuantumCircuit(3)\n",
    "c1.append(oracle1_inst, [0, 1, 2])\n",
    "c1.draw()"
   ]
  },
  {
   "cell_type": "code",
   "execution_count": 38,
   "metadata": {},
   "outputs": [
    {
     "data": {
      "text/html": [
       "<pre style=\"word-wrap: normal;white-space: pre;background: #fff0;line-height: 1.1;font-family: &quot;Courier New&quot;,Courier,monospace\">     \n",
       "q_0: \n",
       "     \n",
       "q_1: \n",
       "     \n",
       "q_2: \n",
       "     </pre>"
      ],
      "text/plain": [
       "     \n",
       "q_0: \n",
       "     \n",
       "q_1: \n",
       "     \n",
       "q_2: \n",
       "     "
      ]
     },
     "execution_count": 38,
     "metadata": {},
     "output_type": "execute_result"
    }
   ],
   "source": [
    "# What's inside the constant fucntion oracle\n",
    "cfunc = q.QuantumCircuit(3)\n",
    "# outputs whatever you put in\n",
    "cfunc.draw()"
   ]
  },
  {
   "cell_type": "code",
   "execution_count": 43,
   "metadata": {},
   "outputs": [
    {
     "data": {
      "text/html": [
       "<pre style=\"word-wrap: normal;white-space: pre;background: #fff0;line-height: 1.1;font-family: &quot;Courier New&quot;,Courier,monospace\">     ┌──────────┐\n",
       "q_0: ┤0         ├\n",
       "     │          │\n",
       "q_1: ┤1 oracle2 ├\n",
       "     │          │\n",
       "q_2: ┤2         ├\n",
       "     └──────────┘</pre>"
      ],
      "text/plain": [
       "     ┌──────────┐\n",
       "q_0: ┤0         ├\n",
       "     │          │\n",
       "q_1: ┤1 oracle2 ├\n",
       "     │          │\n",
       "q_2: ┤2         ├\n",
       "     └──────────┘"
      ]
     },
     "execution_count": 43,
     "metadata": {},
     "output_type": "execute_result"
    }
   ],
   "source": [
    "# Build an oracle for a constant function\n",
    "oracle2_q = q.QuantumRegister(3)\n",
    "oracle2_circ = q.QuantumCircuit(oracle1_q, name='oracle2')\n",
    "# Convert to a gate and stick it into an arbitrary place in the bigger circuit\n",
    "oracle2_inst = oracle2_circ.to_instruction()\n",
    "\n",
    "\"\"\"\n",
    "c = q.QuantumCircuit(3, 2)\n",
    "c.x(2)  # adding this not gate\n",
    "c.barrier()\n",
    "c.h(0)\n",
    "c.h(1)\n",
    "c.h(2)\n",
    "c.barrier()\n",
    "c.append(oracle2_inst, [0, 1, 2])\n",
    "c.barrier()\n",
    "c.h(0)\n",
    "c.h(1)\n",
    "# no need for ending H on q[2]\n",
    "c.draw()\n",
    "\"\"\"\n",
    "\n",
    "c2 = q.QuantumCircuit(3)\n",
    "c2.append(oracle2_inst, [0, 1, 2])\n",
    "c2.draw()"
   ]
  },
  {
   "cell_type": "code",
   "execution_count": null,
   "metadata": {},
   "outputs": [],
   "source": []
  }
 ],
 "metadata": {
  "kernelspec": {
   "display_name": "Python 3",
   "language": "python",
   "name": "python3"
  },
  "language_info": {
   "codemirror_mode": {
    "name": "ipython",
    "version": 3
   },
   "file_extension": ".py",
   "mimetype": "text/x-python",
   "name": "python",
   "nbconvert_exporter": "python",
   "pygments_lexer": "ipython3",
   "version": "3.7.6"
  }
 },
 "nbformat": 4,
 "nbformat_minor": 4
}
